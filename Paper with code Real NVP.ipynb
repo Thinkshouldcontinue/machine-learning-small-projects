{
 "cells": [
  {
   "cell_type": "code",
   "execution_count": 48,
   "id": "7356c998",
   "metadata": {},
   "outputs": [],
   "source": [
    "import torch\n",
    "from torch import nn, optim, distributions\n",
    "from torch.nn import functional as F\n",
    "from torchvision import transforms\n",
    "from torchvision.utils import save_image\n",
    "from batch_norm_note import BatchNormLayer\n",
    "import seaborn as sns\n",
    "\n",
    "from sklearn import datasets\n",
    "import numpy as np\n",
    "import matplotlib.pyplot as plt\n",
    "from pylab import rcParams\n",
    "import os"
   ]
  },
  {
   "cell_type": "markdown",
   "id": "1d3a354b",
   "metadata": {},
   "source": [
    "# The model of Real NVP¶"
   ]
  },
  {
   "cell_type": "markdown",
   "id": "b0f84283",
   "metadata": {},
   "source": [
    "Base distribution : $Z$.<br>\n",
    "Target Distribution: $X$.<br>\n",
    "Flow $f = f_n \\circ f_{n-1} \\circ f_{n-2}\\cdots f_1$ <br>\n",
    "$Z = f(X)$"
   ]
  },
  {
   "cell_type": "markdown",
   "id": "a66392d3",
   "metadata": {},
   "source": [
    "# Implement the coupling layer"
   ]
  },
  {
   "cell_type": "code",
   "execution_count": 49,
   "id": "3e5e0530",
   "metadata": {},
   "outputs": [],
   "source": [
    "class CouplingLayer(nn.Module):\n",
    "    def __init__(self, input_dim, output_dim, hid_dim, mask):\n",
    "        super().__init__()\n",
    "        self.s_fc1 = nn.Linear(input_dim, hid_dim)\n",
    "        self.s_fc2 = nn.Linear(hid_dim, hid_dim)\n",
    "        self.s_fc3 = nn.Linear(hid_dim, output_dim)\n",
    "        self.t_fc1 = nn.Linear(input_dim, hid_dim)\n",
    "        self.t_fc2 = nn.Linear(hid_dim, hid_dim)\n",
    "        self.t_fc3 = nn.Linear(hid_dim, output_dim)\n",
    "        self.mask = mask\n",
    "\n",
    "    def forward(self, x):\n",
    "        x_m = x * self.mask\n",
    "        s_out = torch.tanh(self.s_fc3(F.relu(self.s_fc2(F.relu(self.s_fc1(x_m))))))\n",
    "        t_out = self.t_fc3(F.relu(self.t_fc2(F.relu(self.t_fc1(x_m)))))\n",
    "        y = x_m + (1-self.mask)*(x*torch.exp(s_out)+t_out)\n",
    "        log_det_jacobian = s_out.sum(dim=1)\n",
    "        return y, log_det_jacobian\n",
    "\n",
    "    def backward(self, y):\n",
    "        y_m = y * self.mask\n",
    "        s_out = torch.tanh(self.s_fc3(F.relu(self.s_fc2(F.relu(self.s_fc1(y_m))))))\n",
    "        t_out = self.t_fc3(F.relu(self.t_fc2(F.relu(self.t_fc1(y_m)))))\n",
    "        x = y_m + (1-self.mask)*(y-t_out)*torch.exp(-s_out)\n",
    "        return x"
   ]
  },
  {
   "cell_type": "markdown",
   "id": "a392dffe",
   "metadata": {},
   "source": [
    "Suppose $X$ and $Z$ all have D dimensions. I mask d\n",
    "For the forward function above, we use the formula below:<br>\n",
    "$z_{1:d} = x_{1:d}$ <br>\n",
    "$z_{d+1: D} = x_{d+1:D}\\odot exp(s(x_{1:d})) + t(x_{1:d})$<br>\n",
    "<br>\n",
    "\n",
    "Get the determinant contributed by this transformation: $exp(s(x_{1:d}))$\n",
    "\n",
    "Backward function is using the formula below:<br>\n",
    "$x_{1:d} = z_{1:d}$ <br>\n",
    "$x_{d+1:D} = (z_{d+1:D} - t(z_{1:d}))\\odot exp(-s(z_{1:d}))$ <br>\n"
   ]
  },
  {
   "cell_type": "code",
   "execution_count": 50,
   "id": "deb0369c",
   "metadata": {},
   "outputs": [],
   "source": [
    "class RealNVP(nn.Module):\n",
    "    def __init__(self, input_dim, output_dim, hid_dim, mask, n_layers = 6):\n",
    "        super().__init__()\n",
    "        assert n_layers >= 2, 'num of coupling layers should be greater or equal to 2'\n",
    "\n",
    "        self.modules = []\n",
    "        \n",
    "        self.modules.append(CouplingLayer(input_dim, output_dim, hid_dim, mask))\n",
    "        self.modules.append(BatchNormLayer(input_dim))\n",
    "        \n",
    "        for _ in range(n_layers-2):\n",
    "            mask = 1 - mask\n",
    "            self.modules.append(CouplingLayer(input_dim, output_dim, hid_dim, mask))\n",
    "            self.modules.append(BatchNormLayer(input_dim))\n",
    "            \n",
    "        self.modules.append(CouplingLayer(input_dim, output_dim, hid_dim, 1 - mask))\n",
    "        self.modules.append(BatchNormLayer(input_dim))\n",
    "        \n",
    "        self.module_list = nn.ModuleList(self.modules)\n",
    "        \n",
    "    def forward(self, x):\n",
    "        #ldj_sum = 0 # sum of log determinant of jacobian\n",
    "        ldj_sum = torch.zeros(x.shape[0])\n",
    "        for module in self.module_list:\n",
    "            x, ldj= module(x)\n",
    "            ldj_sum += ldj\n",
    "        return x, ldj_sum\n",
    "\n",
    "    def backward(self, z):\n",
    "        #ldj_sum = 0 # sum of log determinant of jacobian\n",
    "        ldj_sum = torch.zeros(z.shape[0])\n",
    "        for module in reversed(self.module_list):\n",
    "            z, ldj = module.backward(z)\n",
    "            ldj_sum += ldj\n",
    "        return z, ldj_sum"
   ]
  },
  {
   "cell_type": "markdown",
   "id": "114418ee",
   "metadata": {},
   "source": [
    "Sum of the log determinant of jacobian for each layer:\n",
    "$\\sum_j s_j(x_{1:d})$.<br>\n",
    "\n",
    "What we should note here is that the compnent which is identical in 1 transformation will be modified in the next transformation"
   ]
  },
  {
   "cell_type": "code",
   "execution_count": 51,
   "id": "c96179d0",
   "metadata": {},
   "outputs": [],
   "source": [
    "'''\n",
    "Training Data Creation\n",
    "'''\n",
    "\n",
    "'''\n",
    "Generating twelve independent normal distribution\n",
    "'''\n",
    "a = torch.zeros(12)\n",
    "b = torch.tensor([1,2,4,1,2,4,1,2,2,2,2,2])\n",
    "s_dist = distributions.Normal(a, b)\n",
    "sample_normal = s_dist.sample(torch.Size([60000]))\n",
    "\n",
    "\n",
    "'''\n",
    "Generate the sample of X\n",
    "'''\n",
    "sample_X = sample_normal[:,0].pow(2)\n",
    "for i in range(1,8):\n",
    "    sample_X = torch.column_stack((sample_X,sample_normal[:,i].pow(2)))\n",
    "\n",
    "sample_X = torch.column_stack((sample_X, sample_normal[:,8].pow(2) \n",
    "                               + sample_normal[:,9].pow(2)))\n",
    "sample_X = torch.column_stack((sample_X, sample_normal[:,10].pow(2) \n",
    "                               + sample_normal[:,11].pow(2)))\n",
    "\n",
    "\n",
    "'''\n",
    "Load Data\n",
    "'''\n",
    "device = torch.device('cuda' if torch.cuda.is_available() else 'cpu')\n",
    "kwargs = {'num_workers': 1, 'pin_memory': True} if device == 'cuda' else {}\n",
    "train_loader = torch.utils.data.DataLoader(sample_X, batch_size=500, shuffle=True, **kwargs)"
   ]
  },
  {
   "cell_type": "code",
   "execution_count": 52,
   "id": "fe1e59b9",
   "metadata": {},
   "outputs": [],
   "source": [
    "'''\n",
    "Test data\n",
    "This data is used to test the accuracy of our model\n",
    "'''\n",
    "\n",
    "test_normal = s_dist.sample(torch.Size([1000]))\n",
    "\n",
    "test_X = test_normal[:,0].pow(2)\n",
    "for i in range(1,8):\n",
    "    test_X = torch.column_stack((test_X, test_normal[:,i].pow(2)))\n",
    "\n",
    "test_X = torch.column_stack((test_X, test_normal[:,8].pow(2) \n",
    "                               + test_normal[:,9].pow(2)))\n",
    "test_X = torch.column_stack((test_X, test_normal[:,10].pow(2) \n",
    "                               + test_normal[:,11].pow(2)))"
   ]
  },
  {
   "cell_type": "markdown",
   "id": "23e99b31",
   "metadata": {},
   "source": [
    "Each component of data is independent from other components:\n",
    "$[X_1, X_2, X_3, X_4, X_5, X_6, X_7, X_8, X_9, X_{10}]$<br>\n",
    "$X_1, X_4, X_7 \\sim Gamma(\\frac{1}{2}, \\frac{1}{2}) $ <br>\n",
    "$X_2, X_5, X_8 \\sim Gamma(\\frac{1}{2}, \\frac{1}{8})$<br>\n",
    "$X_3, X_6 \\sim Gamma(\\frac{1}{2}, \\frac{1}{32})$ <br>\n",
    "$X_9, X_{10} \\sim Gamma(1, \\frac{1}{8})$ <br>\n"
   ]
  },
  {
   "cell_type": "code",
   "execution_count": 53,
   "id": "00f97db4",
   "metadata": {},
   "outputs": [],
   "source": [
    "BATCH_SIZE = 500\n",
    "LOG_INTERVAL = 50\n",
    "EPOCHS = 15\n",
    "INPUT_DIM = 10\n",
    "OUTPUT_DIM = 10\n",
    "HIDDEN_DIM = 256\n",
    "N_COUPLE_LAYERS = 4"
   ]
  },
  {
   "cell_type": "code",
   "execution_count": 54,
   "id": "de57557d",
   "metadata": {},
   "outputs": [],
   "source": [
    "mask = torch.from_numpy(np.array([0, 1, 0, 1, 0, 1, 0, 1, 0, 1]).astype(np.float32))\n",
    "model = RealNVP(INPUT_DIM, OUTPUT_DIM, HIDDEN_DIM, mask, N_COUPLE_LAYERS)\n",
    "optimizer = torch.optim.Adam(model.parameters(), lr=1e-3)\n",
    "prior_z = distributions.MultivariateNormal(torch.zeros(10), torch.eye(10))"
   ]
  },
  {
   "cell_type": "markdown",
   "id": "6bff6c6c",
   "metadata": {},
   "source": [
    "# Training the Data"
   ]
  },
  {
   "cell_type": "code",
   "execution_count": 55,
   "id": "e300357c",
   "metadata": {},
   "outputs": [],
   "source": [
    "def train(epoch):\n",
    "    model.train()\n",
    "    train_loss = 0\n",
    "    for batch_idx, data in enumerate(train_loader):\n",
    "        optimizer.zero_grad()\n",
    "        z, log_det_j_sum = model(data)\n",
    "        loss = -(prior_z.log_prob(z)+log_det_j_sum).mean()\n",
    "        loss.backward()\n",
    "        cur_loss = loss.item()\n",
    "        train_loss += cur_loss\n",
    "        optimizer.step()\n",
    "        if batch_idx % LOG_INTERVAL == 0:\n",
    "            print('Train Epoch: {} [{}/{} ({:.0f}%)]\\tLoss: {:.6f}'.format(\n",
    "                epoch, batch_idx * len(data), len(train_loader.dataset),\n",
    "                100.*batch_idx / len(train_loader),\n",
    "                cur_loss/len(data)))\n",
    "\n",
    "    print('====> Epoch: {} Average loss: {:.4f}'.format(\n",
    "        epoch, train_loss / len(train_loader.dataset)\n",
    "    ))"
   ]
  },
  {
   "cell_type": "code",
   "execution_count": 56,
   "id": "bda0175b",
   "metadata": {},
   "outputs": [
    {
     "name": "stdout",
     "output_type": "stream",
     "text": [
      "Train Epoch: 1 [0/60000 (0%)]\tLoss: 0.065833\n",
      "Train Epoch: 1 [25000/60000 (42%)]\tLoss: 0.013500\n",
      "Train Epoch: 1 [50000/60000 (83%)]\tLoss: 0.012697\n",
      "====> Epoch: 1 Average loss: 0.0166\n",
      "Train Epoch: 2 [0/60000 (0%)]\tLoss: 0.012101\n",
      "Train Epoch: 2 [25000/60000 (42%)]\tLoss: 0.011315\n",
      "Train Epoch: 2 [50000/60000 (83%)]\tLoss: 0.011728\n",
      "====> Epoch: 2 Average loss: 0.0118\n",
      "Train Epoch: 3 [0/60000 (0%)]\tLoss: 0.011621\n",
      "Train Epoch: 3 [25000/60000 (42%)]\tLoss: 0.011790\n",
      "Train Epoch: 3 [50000/60000 (83%)]\tLoss: 0.010959\n",
      "====> Epoch: 3 Average loss: 0.0113\n",
      "Train Epoch: 4 [0/60000 (0%)]\tLoss: 0.010748\n",
      "Train Epoch: 4 [25000/60000 (42%)]\tLoss: 0.010696\n",
      "Train Epoch: 4 [50000/60000 (83%)]\tLoss: 0.011307\n",
      "====> Epoch: 4 Average loss: 0.0110\n",
      "Train Epoch: 5 [0/60000 (0%)]\tLoss: 0.010165\n",
      "Train Epoch: 5 [25000/60000 (42%)]\tLoss: 0.010120\n",
      "Train Epoch: 5 [50000/60000 (83%)]\tLoss: 0.010912\n",
      "====> Epoch: 5 Average loss: 0.0107\n",
      "Train Epoch: 6 [0/60000 (0%)]\tLoss: 0.011093\n",
      "Train Epoch: 6 [25000/60000 (42%)]\tLoss: 0.010316\n",
      "Train Epoch: 6 [50000/60000 (83%)]\tLoss: 0.010497\n",
      "====> Epoch: 6 Average loss: 0.0106\n",
      "Train Epoch: 7 [0/60000 (0%)]\tLoss: 0.010221\n",
      "Train Epoch: 7 [25000/60000 (42%)]\tLoss: 0.010761\n",
      "Train Epoch: 7 [50000/60000 (83%)]\tLoss: 0.010296\n",
      "====> Epoch: 7 Average loss: 0.0104\n",
      "Train Epoch: 8 [0/60000 (0%)]\tLoss: 0.010729\n",
      "Train Epoch: 8 [25000/60000 (42%)]\tLoss: 0.010310\n",
      "Train Epoch: 8 [50000/60000 (83%)]\tLoss: 0.010349\n",
      "====> Epoch: 8 Average loss: 0.0103\n",
      "Train Epoch: 9 [0/60000 (0%)]\tLoss: 0.010711\n",
      "Train Epoch: 9 [25000/60000 (42%)]\tLoss: 0.010330\n",
      "Train Epoch: 9 [50000/60000 (83%)]\tLoss: 0.009771\n",
      "====> Epoch: 9 Average loss: 0.0102\n",
      "Train Epoch: 10 [0/60000 (0%)]\tLoss: 0.010390\n",
      "Train Epoch: 10 [25000/60000 (42%)]\tLoss: 0.010445\n",
      "Train Epoch: 10 [50000/60000 (83%)]\tLoss: 0.009747\n",
      "====> Epoch: 10 Average loss: 0.0101\n",
      "Train Epoch: 11 [0/60000 (0%)]\tLoss: 0.010105\n",
      "Train Epoch: 11 [25000/60000 (42%)]\tLoss: 0.010175\n",
      "Train Epoch: 11 [50000/60000 (83%)]\tLoss: 0.009819\n",
      "====> Epoch: 11 Average loss: 0.0101\n",
      "Train Epoch: 12 [0/60000 (0%)]\tLoss: 0.010001\n",
      "Train Epoch: 12 [25000/60000 (42%)]\tLoss: 0.010444\n",
      "Train Epoch: 12 [50000/60000 (83%)]\tLoss: 0.010036\n",
      "====> Epoch: 12 Average loss: 0.0100\n",
      "Train Epoch: 13 [0/60000 (0%)]\tLoss: 0.009710\n",
      "Train Epoch: 13 [25000/60000 (42%)]\tLoss: 0.009677\n",
      "Train Epoch: 13 [50000/60000 (83%)]\tLoss: 0.010116\n",
      "====> Epoch: 13 Average loss: 0.0099\n",
      "Train Epoch: 14 [0/60000 (0%)]\tLoss: 0.009556\n",
      "Train Epoch: 14 [25000/60000 (42%)]\tLoss: 0.009141\n",
      "Train Epoch: 14 [50000/60000 (83%)]\tLoss: 0.009222\n",
      "====> Epoch: 14 Average loss: 0.0098\n",
      "Train Epoch: 15 [0/60000 (0%)]\tLoss: 0.009830\n",
      "Train Epoch: 15 [25000/60000 (42%)]\tLoss: 0.010631\n",
      "Train Epoch: 15 [50000/60000 (83%)]\tLoss: 0.009768\n",
      "====> Epoch: 15 Average loss: 0.0097\n"
     ]
    }
   ],
   "source": [
    "for epoch in range(1, EPOCHS + 1):\n",
    "    train(epoch)\n"
   ]
  },
  {
   "cell_type": "markdown",
   "id": "f58261d9",
   "metadata": {},
   "source": [
    "# Test my results"
   ]
  },
  {
   "cell_type": "markdown",
   "id": "fd58c880",
   "metadata": {},
   "source": [
    "Compare the accurate log probability of X with my estimation"
   ]
  },
  {
   "cell_type": "code",
   "execution_count": 57,
   "id": "ce2337c0",
   "metadata": {},
   "outputs": [],
   "source": [
    "Gamma_147 = torch.distributions.Gamma(1/2, 1/2, validate_args=None)\n",
    "Gamma_258 = torch.distributions.Gamma(1/2, 1/8, validate_args=None)\n",
    "Gamma_36 = torch.distributions.Gamma(1/2, 1/32, validate_args=None)\n",
    "Gamma_910 = torch.distributions.Gamma(1, 1/8, validate_args=None)"
   ]
  },
  {
   "cell_type": "markdown",
   "id": "e365b0b1",
   "metadata": {},
   "source": [
    "Use the property of independent of random variables"
   ]
  },
  {
   "cell_type": "code",
   "execution_count": 58,
   "id": "b130353b",
   "metadata": {},
   "outputs": [],
   "source": [
    "#Accurate log probability:\n",
    "Log_prob_correct = ( Gamma_147.log_prob(test_X[:,0]) + Gamma_147.log_prob(test_X[:,3]) + Gamma_147.log_prob(test_X[:,6])\n",
    "                   + Gamma_258.log_prob(test_X[:, 1]) + Gamma_258.log_prob(test_X[:, 4]) + Gamma_258.log_prob(test_X[:, 7])\n",
    "                    + Gamma_36.log_prob(test_X[:,2]) + Gamma_36.log_prob(test_X[:,5])\n",
    "                     + Gamma_910.log_prob(test_X[:, 8]) +  Gamma_910.log_prob(test_X[:, 9]) )\n",
    "\n",
    "prob_1 = torch.exp(Log_prob_correct)\n"
   ]
  },
  {
   "cell_type": "code",
   "execution_count": 59,
   "id": "54927355",
   "metadata": {
    "scrolled": true
   },
   "outputs": [
    {
     "name": "stdout",
     "output_type": "stream",
     "text": [
      "setting batch stats for validation\n",
      "setting batch stats for validation\n",
      "setting batch stats for validation\n",
      "setting batch stats for validation\n"
     ]
    }
   ],
   "source": [
    "#Log probability of my estimation\n",
    "model.eval()\n",
    "with torch.no_grad():\n",
    "         z_val, Log_Det = model.forward(test_X)\n",
    "         Log_prob_est = prior_z.log_prob(z_val) + Log_Det\n",
    "        \n",
    "prob_2 = torch.exp(Log_prob_est)"
   ]
  },
  {
   "cell_type": "code",
   "execution_count": 62,
   "id": "47cc801d",
   "metadata": {},
   "outputs": [
    {
     "name": "stdout",
     "output_type": "stream",
     "text": [
      "tensor(12291.9609)\n"
     ]
    }
   ],
   "source": [
    "#Calculating the KL divergence value\n",
    "KL_divergence =(prob_2 * (Log_prob_est - Log_prob_correct)).sum()\n",
    "print(KL_divergence)"
   ]
  },
  {
   "cell_type": "code",
   "execution_count": 63,
   "id": "51dd5c87",
   "metadata": {},
   "outputs": [],
   "source": [
    "#drawing the graph\n",
    "base_class = distributions.Normal(torch.zeros(10), torch.ones(10))\n",
    "draw_sample = base_class.sample(torch.Size([5000]))\n"
   ]
  },
  {
   "cell_type": "code",
   "execution_count": 64,
   "id": "81e344a9",
   "metadata": {},
   "outputs": [],
   "source": [
    "#Generated data from our model\n",
    "model.eval()\n",
    "with torch.no_grad():\n",
    "      Generated_data, Log_det_I = model.forward(draw_sample)"
   ]
  },
  {
   "cell_type": "code",
   "execution_count": 67,
   "id": "1052ee28",
   "metadata": {},
   "outputs": [],
   "source": [
    "\n",
    "X_3 = Generated_data[:,2].numpy()"
   ]
  },
  {
   "cell_type": "code",
   "execution_count": 68,
   "id": "90821d79",
   "metadata": {},
   "outputs": [
    {
     "data": {
      "text/plain": [
       "<seaborn.axisgrid.FacetGrid at 0x106d1beb0>"
      ]
     },
     "execution_count": 68,
     "metadata": {},
     "output_type": "execute_result"
    },
    {
     "data": {
      "image/png": "[encoded data removed]",
      "text/plain": [
       "<Figure size 360x360 with 1 Axes>"
      ]
     },
     "metadata": {
      "needs_background": "light"
     },
     "output_type": "display_data"
    }
   ],
   "source": [
    "sns.displot(X_3)"
   ]
  },
  {
   "cell_type": "code",
   "execution_count": 38,
   "id": "cf135f48",
   "metadata": {},
   "outputs": [],
   "source": [
    "sample_258 = Gamma_910.sample(torch.Size([3000]))"
   ]
  },
  {
   "cell_type": "code",
   "execution_count": 39,
   "id": "d6f64f54",
   "metadata": {},
   "outputs": [
    {
     "data": {
      "text/plain": [
       "<seaborn.axisgrid.FacetGrid at 0x108bd59a0>"
      ]
     },
     "execution_count": 39,
     "metadata": {},
     "output_type": "execute_result"
    },
    {
     "data": {
      "image/png": "[encoded data removed]",
      "text/plain": [
       "<Figure size 360x360 with 1 Axes>"
      ]
     },
     "metadata": {
      "needs_background": "light"
     },
     "output_type": "display_data"
    }
   ],
   "source": [
    "sns.displot(sample_258)"
   ]
  },
  {
   "cell_type": "code",
   "execution_count": null,
   "id": "e210a24e",
   "metadata": {},
   "outputs": [],
   "source": []
  }
 ],
 "metadata": {
  "kernelspec": {
   "display_name": "Python 3 (ipykernel)",
   "language": "python",
   "name": "python3"
  },
  "language_info": {
   "codemirror_mode": {
    "name": "ipython",
    "version": 3
   },
   "file_extension": ".py",
   "mimetype": "text/x-python",
   "name": "python",
   "nbconvert_exporter": "python",
   "pygments_lexer": "ipython3",
   "version": "3.9.7"
  }
 },
 "nbformat": 4,
 "nbformat_minor": 5
}
